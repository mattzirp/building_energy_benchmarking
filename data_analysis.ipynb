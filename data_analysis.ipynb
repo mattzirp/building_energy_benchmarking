{
 "cells": [
  {
   "cell_type": "markdown",
   "metadata": {},
   "source": [
    "# Data Analysis of Building Energy Benchmarking Data\n",
    "This is the final homework for DATA601 - Working with Data and Visualization\n",
    "\n",
    "In this notebook I will import data from the City of Calgary regarding city owned building energy consumption and emissions performance. Data will be cleaned, statistically analyzed, and visualized to gain key insights about the energy performance of city buildings. A small report with follow in the README of this repo.\n"
   ]
  },
  {
   "cell_type": "markdown",
   "metadata": {},
   "source": [
    "## Data Cleaning and Preprocessing\n",
    "\n",
    "### Load and Inspect the Dataset"
   ]
  },
  {
   "cell_type": "code",
   "execution_count": 91,
   "metadata": {},
   "outputs": [
    {
     "data": {
      "text/plain": [
       "(494, 31)"
      ]
     },
     "execution_count": 91,
     "metadata": {},
     "output_type": "execute_result"
    }
   ],
   "source": [
    "# import relevant libraries\n",
    "import numpy as np\n",
    "import pandas as pd\n",
    "import matplotlib.pyplot as plt\n",
    "import re\n",
    "\n",
    "# read in the data set\n",
    "data = pd.read_csv('data/Building_Energy_Benchmarking.csv')\n",
    "data.shape"
   ]
  },
  {
   "cell_type": "code",
   "execution_count": 92,
   "metadata": {},
   "outputs": [
    {
     "name": "stdout",
     "output_type": "stream",
     "text": [
      "<class 'pandas.core.frame.DataFrame'>\n",
      "RangeIndex: 494 entries, 0 to 493\n",
      "Data columns (total 31 columns):\n",
      " #   Column                                                                 Non-Null Count  Dtype  \n",
      "---  ------                                                                 --------------  -----  \n",
      " 0   Property Id                                                            494 non-null    int64  \n",
      " 1   Property Name                                                          494 non-null    object \n",
      " 2   Address 1                                                              494 non-null    object \n",
      " 3   City                                                                   494 non-null    object \n",
      " 4   Postal Code                                                            494 non-null    object \n",
      " 5   Province                                                               494 non-null    object \n",
      " 6   Primary Property Type - Self Selected                                  494 non-null    object \n",
      " 7   Number of Buildings                                                    494 non-null    int64  \n",
      " 8   Year Built                                                             494 non-null    int64  \n",
      " 9   Property GFA - Self-Reported (m²)                                      494 non-null    object \n",
      " 10  ENERGY STAR Score                                                      165 non-null    float64\n",
      " 11  Site Energy Use (GJ)                                                   494 non-null    object \n",
      " 12  Weather Normalized Site Energy Use (GJ)                                494 non-null    object \n",
      " 13  Site EUI (GJ/m²)                                                       494 non-null    float64\n",
      " 14  Weather Normalized Site EUI (GJ/m²)                                    494 non-null    float64\n",
      " 15  Source Energy Use (GJ)                                                 494 non-null    object \n",
      " 16  Weather Normalized Source Energy Use (GJ)                              492 non-null    object \n",
      " 17  Source EUI (GJ/m²)                                                     494 non-null    float64\n",
      " 18  Weather Normalized Source EUI (GJ/m²)                                  494 non-null    float64\n",
      " 19  Total GHG Emissions (Metric Tons CO2e)                                 494 non-null    object \n",
      " 20  Total GHG Emissions Intensity (kgCO2e/m²)                              494 non-null    float64\n",
      " 21  Direct GHG Emissions (Metric Tons CO2e)                                494 non-null    object \n",
      " 22  Direct GHG Emissions Intensity (kgCO2e/m²)                             494 non-null    float64\n",
      " 23  Electricity Use - Grid Purchase (kWh)                                  494 non-null    object \n",
      " 24  Natural Gas Use (GJ)                                                   484 non-null    object \n",
      " 25  District Hot Water Use (GJ)                                            15 non-null     object \n",
      " 26  Electricity Use – Generated from Onsite Renewable Systems (kWh)        44 non-null     float64\n",
      " 27  Green Power - Onsite and Offsite (kWh)                                 296 non-null    float64\n",
      " 28  Avoided Emissions - Onsite and Offsite Green Power (Metric Tons CO2e)  296 non-null    float64\n",
      " 29  Year Ending                                                            494 non-null    int64  \n",
      " 30  Unique ID                                                              494 non-null    object \n",
      "dtypes: float64(10), int64(4), object(17)\n",
      "memory usage: 119.8+ KB\n"
     ]
    }
   ],
   "source": [
    "data.info()"
   ]
  },
  {
   "cell_type": "code",
   "execution_count": 93,
   "metadata": {},
   "outputs": [
    {
     "data": {
      "text/plain": [
       "Index(['Property Id', 'Property Name', 'Address 1', 'City', 'Postal Code',\n",
       "       'Province', 'Primary Property Type - Self Selected',\n",
       "       'Number of Buildings', 'Year Built',\n",
       "       'Property GFA - Self-Reported (m²)', 'ENERGY STAR Score',\n",
       "       'Site Energy Use (GJ)', 'Weather Normalized Site Energy Use (GJ)',\n",
       "       'Site EUI (GJ/m²)', 'Weather Normalized Site EUI (GJ/m²)',\n",
       "       'Source Energy Use (GJ)', 'Weather Normalized Source Energy Use (GJ)',\n",
       "       'Source EUI (GJ/m²)', 'Weather Normalized Source EUI (GJ/m²)',\n",
       "       'Total GHG Emissions (Metric Tons CO2e)',\n",
       "       'Total GHG Emissions Intensity (kgCO2e/m²)',\n",
       "       'Direct GHG Emissions (Metric Tons CO2e)',\n",
       "       'Direct GHG Emissions Intensity (kgCO2e/m²)',\n",
       "       'Electricity Use - Grid Purchase (kWh)', 'Natural Gas Use (GJ)',\n",
       "       'District Hot Water Use (GJ)',\n",
       "       'Electricity Use – Generated from Onsite Renewable Systems (kWh)',\n",
       "       'Green Power - Onsite and Offsite (kWh)',\n",
       "       'Avoided Emissions - Onsite and Offsite Green Power (Metric Tons CO2e)',\n",
       "       'Year Ending', 'Unique ID'],\n",
       "      dtype='object')"
      ]
     },
     "execution_count": 93,
     "metadata": {},
     "output_type": "execute_result"
    }
   ],
   "source": [
    "data.columns"
   ]
  },
  {
   "cell_type": "code",
   "execution_count": 94,
   "metadata": {},
   "outputs": [
    {
     "data": {
      "text/plain": [
       "Property Id                                                                int64\n",
       "Property Name                                                             object\n",
       "Address 1                                                                 object\n",
       "City                                                                      object\n",
       "Postal Code                                                               object\n",
       "Province                                                                  object\n",
       "Primary Property Type - Self Selected                                     object\n",
       "Number of Buildings                                                        int64\n",
       "Year Built                                                                 int64\n",
       "Property GFA - Self-Reported (m²)                                         object\n",
       "ENERGY STAR Score                                                        float64\n",
       "Site Energy Use (GJ)                                                      object\n",
       "Weather Normalized Site Energy Use (GJ)                                   object\n",
       "Site EUI (GJ/m²)                                                         float64\n",
       "Weather Normalized Site EUI (GJ/m²)                                      float64\n",
       "Source Energy Use (GJ)                                                    object\n",
       "Weather Normalized Source Energy Use (GJ)                                 object\n",
       "Source EUI (GJ/m²)                                                       float64\n",
       "Weather Normalized Source EUI (GJ/m²)                                    float64\n",
       "Total GHG Emissions (Metric Tons CO2e)                                    object\n",
       "Total GHG Emissions Intensity (kgCO2e/m²)                                float64\n",
       "Direct GHG Emissions (Metric Tons CO2e)                                   object\n",
       "Direct GHG Emissions Intensity (kgCO2e/m²)                               float64\n",
       "Electricity Use - Grid Purchase (kWh)                                     object\n",
       "Natural Gas Use (GJ)                                                      object\n",
       "District Hot Water Use (GJ)                                               object\n",
       "Electricity Use – Generated from Onsite Renewable Systems (kWh)          float64\n",
       "Green Power - Onsite and Offsite (kWh)                                   float64\n",
       "Avoided Emissions - Onsite and Offsite Green Power (Metric Tons CO2e)    float64\n",
       "Year Ending                                                                int64\n",
       "Unique ID                                                                 object\n",
       "dtype: object"
      ]
     },
     "execution_count": 94,
     "metadata": {},
     "output_type": "execute_result"
    }
   ],
   "source": [
    "data.dtypes"
   ]
  },
  {
   "cell_type": "markdown",
   "metadata": {},
   "source": [
    "Column data types do not all seem to align to what will be stored in them. For example, there are many columns that house numerical data, but have the object type, effectively storing numerical data as text. Before addressing that, let's inspect and handle the missing data\n",
    "\n",
    "\n",
    "### Handling Missing Data"
   ]
  },
  {
   "cell_type": "code",
   "execution_count": 95,
   "metadata": {},
   "outputs": [
    {
     "data": {
      "text/plain": [
       "District Hot Water Use (GJ)                                              96.963563\n",
       "Electricity Use – Generated from Onsite Renewable Systems (kWh)          91.093117\n",
       "ENERGY STAR Score                                                        66.599190\n",
       "Avoided Emissions - Onsite and Offsite Green Power (Metric Tons CO2e)    40.080972\n",
       "Green Power - Onsite and Offsite (kWh)                                   40.080972\n",
       "Natural Gas Use (GJ)                                                      2.024291\n",
       "Weather Normalized Source Energy Use (GJ)                                 0.404858\n",
       "Primary Property Type - Self Selected                                     0.000000\n",
       "Number of Buildings                                                       0.000000\n",
       "Property Name                                                             0.000000\n",
       "Property Id                                                               0.000000\n",
       "City                                                                      0.000000\n",
       "Postal Code                                                               0.000000\n",
       "Province                                                                  0.000000\n",
       "Address 1                                                                 0.000000\n",
       "Weather Normalized Site EUI (GJ/m²)                                       0.000000\n",
       "Site EUI (GJ/m²)                                                          0.000000\n",
       "Weather Normalized Site Energy Use (GJ)                                   0.000000\n",
       "Site Energy Use (GJ)                                                      0.000000\n",
       "Property GFA - Self-Reported (m²)                                         0.000000\n",
       "Year Built                                                                0.000000\n",
       "Source EUI (GJ/m²)                                                        0.000000\n",
       "Source Energy Use (GJ)                                                    0.000000\n",
       "Direct GHG Emissions Intensity (kgCO2e/m²)                                0.000000\n",
       "Direct GHG Emissions (Metric Tons CO2e)                                   0.000000\n",
       "Total GHG Emissions Intensity (kgCO2e/m²)                                 0.000000\n",
       "Total GHG Emissions (Metric Tons CO2e)                                    0.000000\n",
       "Weather Normalized Source EUI (GJ/m²)                                     0.000000\n",
       "Electricity Use - Grid Purchase (kWh)                                     0.000000\n",
       "Year Ending                                                               0.000000\n",
       "Unique ID                                                                 0.000000\n",
       "dtype: float64"
      ]
     },
     "execution_count": 95,
     "metadata": {},
     "output_type": "execute_result"
    }
   ],
   "source": [
    "# identify the columns as a percentage of missing data, then sort by most missing % first\n",
    "percent_missing = (data.isna().sum() / len(data)) * 100\n",
    "percent_missing.sort_values(ascending=False)"
   ]
  },
  {
   "cell_type": "markdown",
   "metadata": {},
   "source": [
    "For this assignment, we are instructed to drop any columns missing more than 40% of their data"
   ]
  },
  {
   "cell_type": "code",
   "execution_count": 96,
   "metadata": {},
   "outputs": [
    {
     "data": {
      "text/plain": [
       "Index(['Property Id', 'Property Name', 'Address 1', 'City', 'Postal Code',\n",
       "       'Province', 'Primary Property Type - Self Selected',\n",
       "       'Number of Buildings', 'Year Built',\n",
       "       'Property GFA - Self-Reported (m²)', 'Site Energy Use (GJ)',\n",
       "       'Weather Normalized Site Energy Use (GJ)', 'Site EUI (GJ/m²)',\n",
       "       'Weather Normalized Site EUI (GJ/m²)', 'Source Energy Use (GJ)',\n",
       "       'Weather Normalized Source Energy Use (GJ)', 'Source EUI (GJ/m²)',\n",
       "       'Weather Normalized Source EUI (GJ/m²)',\n",
       "       'Total GHG Emissions (Metric Tons CO2e)',\n",
       "       'Total GHG Emissions Intensity (kgCO2e/m²)',\n",
       "       'Direct GHG Emissions (Metric Tons CO2e)',\n",
       "       'Direct GHG Emissions Intensity (kgCO2e/m²)',\n",
       "       'Electricity Use - Grid Purchase (kWh)', 'Natural Gas Use (GJ)',\n",
       "       'Year Ending', 'Unique ID'],\n",
       "      dtype='object')"
      ]
     },
     "execution_count": 96,
     "metadata": {},
     "output_type": "execute_result"
    }
   ],
   "source": [
    "# drop the columns with over 40% data missing\n",
    "columns_to_drop = percent_missing.index[percent_missing > 40]\n",
    "data = data.drop(columns_to_drop, axis=1)\n",
    "data.columns"
   ]
  },
  {
   "cell_type": "code",
   "execution_count": 97,
   "metadata": {},
   "outputs": [
    {
     "data": {
      "text/plain": [
       "Natural Gas Use (GJ)                          2.024291\n",
       "Weather Normalized Source Energy Use (GJ)     0.404858\n",
       "Address 1                                     0.000000\n",
       "City                                          0.000000\n",
       "Postal Code                                   0.000000\n",
       "Province                                      0.000000\n",
       "Primary Property Type - Self Selected         0.000000\n",
       "Number of Buildings                           0.000000\n",
       "Property Id                                   0.000000\n",
       "Property Name                                 0.000000\n",
       "Property GFA - Self-Reported (m²)             0.000000\n",
       "Year Built                                    0.000000\n",
       "Site EUI (GJ/m²)                              0.000000\n",
       "Site Energy Use (GJ)                          0.000000\n",
       "Weather Normalized Site EUI (GJ/m²)           0.000000\n",
       "Source Energy Use (GJ)                        0.000000\n",
       "Source EUI (GJ/m²)                            0.000000\n",
       "Weather Normalized Site Energy Use (GJ)       0.000000\n",
       "Weather Normalized Source EUI (GJ/m²)         0.000000\n",
       "Total GHG Emissions (Metric Tons CO2e)        0.000000\n",
       "Direct GHG Emissions (Metric Tons CO2e)       0.000000\n",
       "Total GHG Emissions Intensity (kgCO2e/m²)     0.000000\n",
       "Direct GHG Emissions Intensity (kgCO2e/m²)    0.000000\n",
       "Electricity Use - Grid Purchase (kWh)         0.000000\n",
       "Year Ending                                   0.000000\n",
       "Unique ID                                     0.000000\n",
       "dtype: float64"
      ]
     },
     "execution_count": 97,
     "metadata": {},
     "output_type": "execute_result"
    }
   ],
   "source": [
    "percent_missing = (data.isna().sum() / len(data)) * 100\n",
    "percent_missing.sort_values(ascending=False)"
   ]
  },
  {
   "cell_type": "markdown",
   "metadata": {},
   "source": [
    "We still need to fill the Natural Gas Use and Weather Normalized Source Energy Use columns, however, they are numerical columns stored in text at the moment. Since we plan to fill data with imputed statistical values, we should make sure they are numerical data types before proceeding."
   ]
  },
  {
   "cell_type": "code",
   "execution_count": 98,
   "metadata": {},
   "outputs": [
    {
     "data": {
      "text/html": [
       "<div>\n",
       "<style scoped>\n",
       "    .dataframe tbody tr th:only-of-type {\n",
       "        vertical-align: middle;\n",
       "    }\n",
       "\n",
       "    .dataframe tbody tr th {\n",
       "        vertical-align: top;\n",
       "    }\n",
       "\n",
       "    .dataframe thead th {\n",
       "        text-align: right;\n",
       "    }\n",
       "</style>\n",
       "<table border=\"1\" class=\"dataframe\">\n",
       "  <thead>\n",
       "    <tr style=\"text-align: right;\">\n",
       "      <th></th>\n",
       "      <th>Natural Gas Use (GJ)</th>\n",
       "      <th>Weather Normalized Source Energy Use (GJ)</th>\n",
       "    </tr>\n",
       "  </thead>\n",
       "  <tbody>\n",
       "    <tr>\n",
       "      <th>0</th>\n",
       "      <td>5453</td>\n",
       "      <td>9029</td>\n",
       "    </tr>\n",
       "    <tr>\n",
       "      <th>1</th>\n",
       "      <td>4725</td>\n",
       "      <td>12761</td>\n",
       "    </tr>\n",
       "    <tr>\n",
       "      <th>2</th>\n",
       "      <td>3</td>\n",
       "      <td>6707</td>\n",
       "    </tr>\n",
       "    <tr>\n",
       "      <th>3</th>\n",
       "      <td>506</td>\n",
       "      <td>18157</td>\n",
       "    </tr>\n",
       "    <tr>\n",
       "      <th>4</th>\n",
       "      <td>4926</td>\n",
       "      <td>9154</td>\n",
       "    </tr>\n",
       "    <tr>\n",
       "      <th>...</th>\n",
       "      <td>...</td>\n",
       "      <td>...</td>\n",
       "    </tr>\n",
       "    <tr>\n",
       "      <th>489</th>\n",
       "      <td>980</td>\n",
       "      <td>895</td>\n",
       "    </tr>\n",
       "    <tr>\n",
       "      <th>490</th>\n",
       "      <td>1040</td>\n",
       "      <td>1150</td>\n",
       "    </tr>\n",
       "    <tr>\n",
       "      <th>491</th>\n",
       "      <td>782</td>\n",
       "      <td>329</td>\n",
       "    </tr>\n",
       "    <tr>\n",
       "      <th>492</th>\n",
       "      <td>794</td>\n",
       "      <td>NaN</td>\n",
       "    </tr>\n",
       "    <tr>\n",
       "      <th>493</th>\n",
       "      <td>244</td>\n",
       "      <td>NaN</td>\n",
       "    </tr>\n",
       "  </tbody>\n",
       "</table>\n",
       "<p>494 rows × 2 columns</p>\n",
       "</div>"
      ],
      "text/plain": [
       "    Natural Gas Use (GJ) Weather Normalized Source Energy Use (GJ)\n",
       "0                   5453                                      9029\n",
       "1                   4725                                     12761\n",
       "2                      3                                      6707\n",
       "3                    506                                     18157\n",
       "4                   4926                                      9154\n",
       "..                   ...                                       ...\n",
       "489                  980                                       895\n",
       "490                 1040                                      1150\n",
       "491                  782                                       329\n",
       "492                  794                                       NaN\n",
       "493                  244                                       NaN\n",
       "\n",
       "[494 rows x 2 columns]"
      ]
     },
     "metadata": {},
     "output_type": "display_data"
    },
    {
     "name": "stdout",
     "output_type": "stream",
     "text": [
      "Natural Gas Use (GJ)                         object\n",
      "Weather Normalized Source Energy Use (GJ)    object\n",
      "dtype: object\n"
     ]
    }
   ],
   "source": [
    "# Show data, dtypes for columns missing data.\n",
    "display(data.loc[:,['Natural Gas Use (GJ)', 'Weather Normalized Source Energy Use (GJ)']])\n",
    "print(data.loc[:,['Natural Gas Use (GJ)', 'Weather Normalized Source Energy Use (GJ)']].dtypes)"
   ]
  },
  {
   "cell_type": "markdown",
   "metadata": {},
   "source": [
    "Let's identify from the remaining columns which will need to be converted to a numeric type"
   ]
  },
  {
   "cell_type": "code",
   "execution_count": 99,
   "metadata": {},
   "outputs": [
    {
     "data": {
      "text/plain": [
       "Property Id                                     int64\n",
       "Property Name                                  object\n",
       "Address 1                                      object\n",
       "City                                           object\n",
       "Postal Code                                    object\n",
       "Province                                       object\n",
       "Primary Property Type - Self Selected          object\n",
       "Number of Buildings                             int64\n",
       "Year Built                                      int64\n",
       "Property GFA - Self-Reported (m²)              object\n",
       "Site Energy Use (GJ)                           object\n",
       "Weather Normalized Site Energy Use (GJ)        object\n",
       "Site EUI (GJ/m²)                              float64\n",
       "Weather Normalized Site EUI (GJ/m²)           float64\n",
       "Source Energy Use (GJ)                         object\n",
       "Weather Normalized Source Energy Use (GJ)      object\n",
       "Source EUI (GJ/m²)                            float64\n",
       "Weather Normalized Source EUI (GJ/m²)         float64\n",
       "Total GHG Emissions (Metric Tons CO2e)         object\n",
       "Total GHG Emissions Intensity (kgCO2e/m²)     float64\n",
       "Direct GHG Emissions (Metric Tons CO2e)        object\n",
       "Direct GHG Emissions Intensity (kgCO2e/m²)    float64\n",
       "Electricity Use - Grid Purchase (kWh)          object\n",
       "Natural Gas Use (GJ)                           object\n",
       "Year Ending                                     int64\n",
       "Unique ID                                      object\n",
       "dtype: object"
      ]
     },
     "execution_count": 99,
     "metadata": {},
     "output_type": "execute_result"
    }
   ],
   "source": [
    "data.dtypes"
   ]
  },
  {
   "cell_type": "code",
   "execution_count": 100,
   "metadata": {},
   "outputs": [],
   "source": [
    "\n",
    "columns_to_clean = ['Property GFA - Self-Reported (m²)', \n",
    "                    'Site Energy Use (GJ)', \n",
    "                    'Weather Normalized Site Energy Use (GJ)',\n",
    "                    'Source Energy Use (GJ)',\n",
    "                    'Weather Normalized Source Energy Use (GJ)',\n",
    "                    'Total GHG Emissions (Metric Tons CO2e)',\n",
    "                    'Direct GHG Emissions (Metric Tons CO2e)',\n",
    "                    'Electricity Use - Grid Purchase (kWh)',\n",
    "                    'Natural Gas Use (GJ)'\n",
    "                    ]"
   ]
  },
  {
   "cell_type": "code",
   "execution_count": 101,
   "metadata": {},
   "outputs": [
    {
     "name": "stdout",
     "output_type": "stream",
     "text": [
      "Property GFA - Self-Reported (m²)\n",
      "<class 'str'>    494\n",
      "Name: count, dtype: int64\n",
      "Site Energy Use (GJ)\n",
      "<class 'str'>    494\n",
      "Name: count, dtype: int64\n",
      "Weather Normalized Site Energy Use (GJ)\n",
      "<class 'str'>    494\n",
      "Name: count, dtype: int64\n",
      "Source Energy Use (GJ)\n",
      "<class 'str'>    494\n",
      "Name: count, dtype: int64\n",
      "Weather Normalized Source Energy Use (GJ)\n",
      "<class 'str'>      492\n",
      "<class 'float'>      2\n",
      "Name: count, dtype: int64\n",
      "Total GHG Emissions (Metric Tons CO2e)\n",
      "<class 'str'>    494\n",
      "Name: count, dtype: int64\n",
      "Direct GHG Emissions (Metric Tons CO2e)\n",
      "<class 'str'>    494\n",
      "Name: count, dtype: int64\n",
      "Electricity Use - Grid Purchase (kWh)\n",
      "<class 'str'>    494\n",
      "Name: count, dtype: int64\n",
      "Natural Gas Use (GJ)\n",
      "<class 'str'>      484\n",
      "<class 'float'>     10\n",
      "Name: count, dtype: int64\n"
     ]
    }
   ],
   "source": [
    "for column in columns_to_clean:\n",
    "    print(data[column].apply(type).value_counts())"
   ]
  },
  {
   "cell_type": "markdown",
   "metadata": {},
   "source": [
    "The values in the columns are most str type, with some values being numeric types. We need to take the data that is stored in str types, remove excess characters (I see many commas in the data), cast to an appropriate numeric type (we will use float), and store the float values in the dataframe. \n",
    "\n",
    "We can accomplish this with a function that we `df.apply()` across the columns that uses a RegEx replace `re.sub()`"
   ]
  },
  {
   "cell_type": "code",
   "execution_count": 102,
   "metadata": {},
   "outputs": [],
   "source": [
    "def convert_to_numeric(value):\n",
    "    \"\"\"Convert numeric data stored in str types to float. Remove comma characters then cast to float.\n",
    "\n",
    "    Args:\n",
    "        value: the value stored in the cell\n",
    "\n",
    "    Returns:\n",
    "        value converted to float data type\n",
    "    \"\"\"\n",
    "    try:\n",
    "        # Remove commas\n",
    "        if isinstance(value, str):\n",
    "            cleaned_value = re.sub(\",\", \"\", value)\n",
    "        \n",
    "        else:\n",
    "            cleaned_value = value\n",
    "\n",
    "        # Convert to float \n",
    "        numeric_value = float(cleaned_value)\n",
    "        return numeric_value\n",
    "    # Handle cases where conversion fails\n",
    "    except (ValueError, TypeError):  \n",
    "        return pd.NA\n",
    "\n",
    "# apply function to all columns that need cleaning   \n",
    "for column in columns_to_clean:\n",
    "    data[column] = data[column].apply(convert_to_numeric)"
   ]
  },
  {
   "cell_type": "code",
   "execution_count": 106,
   "metadata": {},
   "outputs": [
    {
     "data": {
      "text/plain": [
       "Natural Gas Use (GJ)                         2.024291\n",
       "Weather Normalized Source Energy Use (GJ)    0.404858\n",
       "Property GFA - Self-Reported (m²)            0.000000\n",
       "Weather Normalized Site Energy Use (GJ)      0.000000\n",
       "Site Energy Use (GJ)                         0.000000\n",
       "Source Energy Use (GJ)                       0.000000\n",
       "Total GHG Emissions (Metric Tons CO2e)       0.000000\n",
       "Direct GHG Emissions (Metric Tons CO2e)      0.000000\n",
       "Electricity Use - Grid Purchase (kWh)        0.000000\n",
       "dtype: float64"
      ]
     },
     "execution_count": 106,
     "metadata": {},
     "output_type": "execute_result"
    }
   ],
   "source": [
    "# Identify missing data in the cleaned columns as a percentage\n",
    "missing_numerical = (data[columns_to_clean].isna().sum() / len(data)) * 100\n",
    "missing_numerical.sort_values(ascending=False)"
   ]
  },
  {
   "cell_type": "code",
   "execution_count": 105,
   "metadata": {},
   "outputs": [
    {
     "data": {
      "text/plain": [
       "Property GFA - Self-Reported (m²)            float64\n",
       "Site Energy Use (GJ)                         float64\n",
       "Weather Normalized Site Energy Use (GJ)      float64\n",
       "Source Energy Use (GJ)                       float64\n",
       "Weather Normalized Source Energy Use (GJ)    float64\n",
       "Total GHG Emissions (Metric Tons CO2e)       float64\n",
       "Direct GHG Emissions (Metric Tons CO2e)      float64\n",
       "Electricity Use - Grid Purchase (kWh)        float64\n",
       "Natural Gas Use (GJ)                         float64\n",
       "dtype: object"
      ]
     },
     "execution_count": 105,
     "metadata": {},
     "output_type": "execute_result"
    }
   ],
   "source": [
    "data[columns_to_clean].dtypes"
   ]
  },
  {
   "cell_type": "markdown",
   "metadata": {},
   "source": [
    "Now that the datatypes have been cleaned up into numerical types, we can impute the missing data more reliably"
   ]
  },
  {
   "cell_type": "code",
   "execution_count": 109,
   "metadata": {},
   "outputs": [],
   "source": [
    "data[['Natural Gas Use (GJ)', 'Weather Normalized Source Energy Use (GJ)']] = data[['Natural Gas Use (GJ)', 'Weather Normalized Source Energy Use (GJ)']].fillna({\n",
    "    'Natural Gas Use (GJ)': data['Natural Gas Use (GJ)'].median(),\n",
    "    'Weather Normalized Source Energy Use (GJ)': data['Weather Normalized Source Energy Use (GJ)'].median()\n",
    "})"
   ]
  },
  {
   "cell_type": "code",
   "execution_count": 110,
   "metadata": {},
   "outputs": [
    {
     "data": {
      "text/plain": [
       "Property Id                                   0.0\n",
       "Property Name                                 0.0\n",
       "Address 1                                     0.0\n",
       "City                                          0.0\n",
       "Postal Code                                   0.0\n",
       "Province                                      0.0\n",
       "Primary Property Type - Self Selected         0.0\n",
       "Number of Buildings                           0.0\n",
       "Year Built                                    0.0\n",
       "Property GFA - Self-Reported (m²)             0.0\n",
       "Site Energy Use (GJ)                          0.0\n",
       "Weather Normalized Site Energy Use (GJ)       0.0\n",
       "Site EUI (GJ/m²)                              0.0\n",
       "Weather Normalized Site EUI (GJ/m²)           0.0\n",
       "Source Energy Use (GJ)                        0.0\n",
       "Weather Normalized Source Energy Use (GJ)     0.0\n",
       "Source EUI (GJ/m²)                            0.0\n",
       "Weather Normalized Source EUI (GJ/m²)         0.0\n",
       "Total GHG Emissions (Metric Tons CO2e)        0.0\n",
       "Total GHG Emissions Intensity (kgCO2e/m²)     0.0\n",
       "Direct GHG Emissions (Metric Tons CO2e)       0.0\n",
       "Direct GHG Emissions Intensity (kgCO2e/m²)    0.0\n",
       "Electricity Use - Grid Purchase (kWh)         0.0\n",
       "Natural Gas Use (GJ)                          0.0\n",
       "Year Ending                                   0.0\n",
       "Unique ID                                     0.0\n",
       "dtype: float64"
      ]
     },
     "execution_count": 110,
     "metadata": {},
     "output_type": "execute_result"
    }
   ],
   "source": [
    "percent_missing = (data.isna().sum() / len(data)) * 100\n",
    "percent_missing.sort_values(ascending=False)"
   ]
  },
  {
   "cell_type": "markdown",
   "metadata": {},
   "source": [
    "### Extracting and Cleaning Data Using RegEx\n",
    "\n",
    "We used RegEx above to normalize our numeric data. Let's use it clean and extract data for Property Names and addresses\n",
    "\n",
    "Starting with Postal codes, we can see that the data does not align to the T2G 0Z4 data standard of two-3 character string separated by a space."
   ]
  },
  {
   "cell_type": "code",
   "execution_count": 114,
   "metadata": {},
   "outputs": [
    {
     "data": {
      "text/plain": [
       "0      T2H 0Z4\n",
       "1       t2e7l7\n",
       "2      T2G 0W2\n",
       "3       T2G0G2\n",
       "4      T2G 4M7\n",
       "        ...   \n",
       "489    T2G 1T7\n",
       "490    T2C 2X1\n",
       "491    T2N 3G8\n",
       "492    T2W 4H7\n",
       "493    T3A 5G1\n",
       "Name: Postal Code, Length: 494, dtype: object"
      ]
     },
     "execution_count": 114,
     "metadata": {},
     "output_type": "execute_result"
    }
   ],
   "source": [
    "data['Postal Code']"
   ]
  },
  {
   "cell_type": "code",
   "execution_count": 115,
   "metadata": {},
   "outputs": [],
   "source": [
    "def normalize_postal_code(postal_code):\n",
    "    \"\"\"Clean missing, excess spacing, and wrong case chars in Postal code data. Returns in form \"T2X 1H5\" \n",
    "\n",
    "    Args:\n",
    "        postal_code (str): Postal code data with mix of proper and improper formatting\n",
    "    \"\"\"\n",
    "    # if data is a string, use regex to clean\n",
    "    if isinstance(postal_code, str):\n",
    "        # remove non-alphanumeric chars, cast to uppercase\n",
    "        cleaned_code = re.sub(r\"[^a-zA-Z0-9]\", \"\", postal_code).upper()\n",
    "        # if string is not proper length\n",
    "        if len(cleaned_code) != 6:\n",
    "            return None\n",
    "        # return first three, next three separated by a space\n",
    "        return f\"{cleaned_code[:3]} {cleaned_code[3:]}\"\n",
    "    \n",
    "    else:\n",
    "        return None\n",
    "    \n",
    "\n",
    "data['Postal Code'] = data['Postal Code'].apply(normalize_postal_code)"
   ]
  },
  {
   "cell_type": "code",
   "execution_count": 152,
   "metadata": {},
   "outputs": [
    {
     "data": {
      "text/plain": [
       "0           9009 Fairmount Dr SE\n",
       "1                  2924 11 ST NE\n",
       "2                   315 10 AV SE\n",
       "3                    133 6 AV SE\n",
       "4            2201 PORTLAND ST SE\n",
       "                 ...            \n",
       "489                 311 34 AV SE\n",
       "490                4705 76 AV SE\n",
       "491         1940 WESTMOUNT BV NW\n",
       "492               2607 106 AV SW\n",
       "493    10071 HIDDEN VALLEY DR NW\n",
       "Name: Address 1, Length: 494, dtype: object"
      ]
     },
     "execution_count": 152,
     "metadata": {},
     "output_type": "execute_result"
    }
   ],
   "source": [
    "data['Address 1']"
   ]
  },
  {
   "cell_type": "code",
   "execution_count": 159,
   "metadata": {},
   "outputs": [],
   "source": [
    "def split_address(df, address_column):\n",
    "    \"\"\"Splits address column into number, street name, street type, and quadrant.\n",
    "       Ignores city, province, and zip code. Normalizes to uppercase.\n",
    "\n",
    "    Args:\n",
    "        df: The pandas DataFrame containing the address data.\n",
    "        address_column: The name of the column containing the addresses.\n",
    "\n",
    "    Returns:\n",
    "        A pandas DataFrame with the new columns (number, street_name, street_type, quadrant).\n",
    "        Returns the original DataFrame if any error occurs during processing.\n",
    "    \"\"\"\n",
    "\n",
    "    try:\n",
    "        # Define regular expressions for each component\n",
    "        number_regex = r\"(\\d{1,5})\"  # 1 to 5 digits\n",
    "        street_type_regex = r\"\\b(St|Dr|Ave|AV|Rd|Tr|Bv|Trail|Road|WY|Blvd|Way|Building)\\b\"  # Street types observed in dataset\n",
    "        quadrant_regex = r\"\\b(NE|NW|SE|SW)\\b\"  # Quadrants in Calgary\n",
    "\n",
    "        # Initialize new columns in the DataFrame\n",
    "        df[['number', 'street_name', 'street_type', 'quadrant']] = ''\n",
    "\n",
    "        for index, row in df.iterrows():\n",
    "            address = row[address_column]\n",
    "            if not isinstance(address, str):\n",
    "                continue\n",
    "\n",
    "            address = address.upper()  # Normalize to uppercase\n",
    "\n",
    "            # Remove city, province, and zip code (anything after the street type or quadrant)\n",
    "            parts = address.split(\",\")  # Split by comma\n",
    "            address = parts[0].strip()  # Take only the first part (address)\n",
    "\n",
    "            # Extract the number\n",
    "            number_match = re.search(number_regex, address)\n",
    "            if number_match:\n",
    "                df.loc[index, 'number'] = number_match.group(1)\n",
    "                address = address.replace(number_match.group(0), \"\", 1).strip()\n",
    "\n",
    "            # Extract the street type\n",
    "            street_type_match = re.search(street_type_regex, address, re.IGNORECASE)\n",
    "            if street_type_match:\n",
    "                df.loc[index, 'street_type'] = street_type_match.group(1)\n",
    "                address = address.replace(street_type_match.group(0), \"\", 1).strip()\n",
    "\n",
    "            # Extract the quadrant\n",
    "            quadrant_match = re.search(quadrant_regex, address, re.IGNORECASE)\n",
    "            if quadrant_match:\n",
    "                df.loc[index, 'quadrant'] = quadrant_match.group(1)\n",
    "                address = address.replace(quadrant_match.group(0), \"\", 1).strip()\n",
    "\n",
    "            # The remaining part is the street name\n",
    "            df.loc[index, 'street_name'] = address.strip()\n",
    "\n",
    "        return df\n",
    "\n",
    "    except Exception as e:\n",
    "        print(f\"An error occurred: {e}\")\n",
    "        return df\n",
    "    \n",
    "\n",
    "data = split_address(data, 'Address 1')"
   ]
  },
  {
   "cell_type": "code",
   "execution_count": 166,
   "metadata": {},
   "outputs": [
    {
     "data": {
      "text/html": [
       "<div>\n",
       "<style scoped>\n",
       "    .dataframe tbody tr th:only-of-type {\n",
       "        vertical-align: middle;\n",
       "    }\n",
       "\n",
       "    .dataframe tbody tr th {\n",
       "        vertical-align: top;\n",
       "    }\n",
       "\n",
       "    .dataframe thead th {\n",
       "        text-align: right;\n",
       "    }\n",
       "</style>\n",
       "<table border=\"1\" class=\"dataframe\">\n",
       "  <thead>\n",
       "    <tr style=\"text-align: right;\">\n",
       "      <th></th>\n",
       "      <th>number</th>\n",
       "      <th>street_name</th>\n",
       "      <th>street_type</th>\n",
       "      <th>quadrant</th>\n",
       "    </tr>\n",
       "  </thead>\n",
       "  <tbody>\n",
       "    <tr>\n",
       "      <th>0</th>\n",
       "      <td>9009</td>\n",
       "      <td>FAIRMOUNT</td>\n",
       "      <td>DR</td>\n",
       "      <td>SE</td>\n",
       "    </tr>\n",
       "    <tr>\n",
       "      <th>1</th>\n",
       "      <td>2924</td>\n",
       "      <td>11</td>\n",
       "      <td>ST</td>\n",
       "      <td>NE</td>\n",
       "    </tr>\n",
       "    <tr>\n",
       "      <th>2</th>\n",
       "      <td>315</td>\n",
       "      <td>10</td>\n",
       "      <td>AV</td>\n",
       "      <td>SE</td>\n",
       "    </tr>\n",
       "    <tr>\n",
       "      <th>3</th>\n",
       "      <td>133</td>\n",
       "      <td>6</td>\n",
       "      <td>AV</td>\n",
       "      <td>SE</td>\n",
       "    </tr>\n",
       "    <tr>\n",
       "      <th>4</th>\n",
       "      <td>2201</td>\n",
       "      <td>PORTLAND</td>\n",
       "      <td>ST</td>\n",
       "      <td>SE</td>\n",
       "    </tr>\n",
       "    <tr>\n",
       "      <th>...</th>\n",
       "      <td>...</td>\n",
       "      <td>...</td>\n",
       "      <td>...</td>\n",
       "      <td>...</td>\n",
       "    </tr>\n",
       "    <tr>\n",
       "      <th>489</th>\n",
       "      <td>311</td>\n",
       "      <td>34</td>\n",
       "      <td>AV</td>\n",
       "      <td>SE</td>\n",
       "    </tr>\n",
       "    <tr>\n",
       "      <th>490</th>\n",
       "      <td>4705</td>\n",
       "      <td>76</td>\n",
       "      <td>AV</td>\n",
       "      <td>SE</td>\n",
       "    </tr>\n",
       "    <tr>\n",
       "      <th>491</th>\n",
       "      <td>1940</td>\n",
       "      <td>WESTMOUNT</td>\n",
       "      <td>BV</td>\n",
       "      <td>NW</td>\n",
       "    </tr>\n",
       "    <tr>\n",
       "      <th>492</th>\n",
       "      <td>2607</td>\n",
       "      <td>106</td>\n",
       "      <td>AV</td>\n",
       "      <td>SW</td>\n",
       "    </tr>\n",
       "    <tr>\n",
       "      <th>493</th>\n",
       "      <td>10071</td>\n",
       "      <td>HIDDEN VALLEY</td>\n",
       "      <td>DR</td>\n",
       "      <td>NW</td>\n",
       "    </tr>\n",
       "  </tbody>\n",
       "</table>\n",
       "<p>494 rows × 4 columns</p>\n",
       "</div>"
      ],
      "text/plain": [
       "    number    street_name street_type quadrant\n",
       "0     9009      FAIRMOUNT          DR       SE\n",
       "1     2924             11          ST       NE\n",
       "2      315             10          AV       SE\n",
       "3      133              6          AV       SE\n",
       "4     2201       PORTLAND          ST       SE\n",
       "..     ...            ...         ...      ...\n",
       "489    311             34          AV       SE\n",
       "490   4705             76          AV       SE\n",
       "491   1940      WESTMOUNT          BV       NW\n",
       "492   2607            106          AV       SW\n",
       "493  10071  HIDDEN VALLEY          DR       NW\n",
       "\n",
       "[494 rows x 4 columns]"
      ]
     },
     "execution_count": 166,
     "metadata": {},
     "output_type": "execute_result"
    }
   ],
   "source": [
    "data.loc[:,'number':]"
   ]
  },
  {
   "cell_type": "code",
   "execution_count": 167,
   "metadata": {},
   "outputs": [
    {
     "data": {
      "text/plain": [
       "street_type\n",
       "AV          159\n",
       "ST          135\n",
       "DR           60\n",
       "RD           45\n",
       "AVE          25\n",
       "BV           15\n",
       "WAY          15\n",
       "TR           10\n",
       "BUILDING      5\n",
       "BLVD          5\n",
       "WY            5\n",
       "              5\n",
       "TRAIL         5\n",
       "ROAD          5\n",
       "Name: count, dtype: int64"
      ]
     },
     "execution_count": 167,
     "metadata": {},
     "output_type": "execute_result"
    }
   ],
   "source": [
    "data['street_type'].value_counts()"
   ]
  },
  {
   "cell_type": "code",
   "execution_count": 174,
   "metadata": {},
   "outputs": [
    {
     "data": {
      "text/plain": [
       "street_type\n",
       "AV          184\n",
       "ST          135\n",
       "DR           60\n",
       "RD           50\n",
       "BV           20\n",
       "WY           20\n",
       "TR           15\n",
       "BUILDING      5\n",
       "              5\n",
       "Name: count, dtype: int64"
      ]
     },
     "execution_count": 174,
     "metadata": {},
     "output_type": "execute_result"
    }
   ],
   "source": [
    "# normalize street types to common abbreviations\n",
    "data['street_type'].replace({\n",
    "    'TRAIL': 'TR',\n",
    "    'ROAD': 'RD',\n",
    "    'BLVD': 'BV',\n",
    "    'AVE': 'AV',\n",
    "    'WAY': 'WY'                      \n",
    "    }, inplace=True)\n",
    "\n",
    "\n",
    "data['street_type'].value_counts()"
   ]
  },
  {
   "cell_type": "code",
   "execution_count": 179,
   "metadata": {},
   "outputs": [],
   "source": [
    "# create a new address column using the cleaned and normalized data\n",
    "data['cleaned_address'] = data['number'] + ' ' + data['street_name'] + ' ' +  data['street_type'] + ' ' +  data['quadrant']"
   ]
  },
  {
   "cell_type": "code",
   "execution_count": 180,
   "metadata": {},
   "outputs": [
    {
     "data": {
      "text/plain": [
       "0           9009 FAIRMOUNT DR SE\n",
       "1                  2924 11 ST NE\n",
       "2                   315 10 AV SE\n",
       "3                    133 6 AV SE\n",
       "4            2201 PORTLAND ST SE\n",
       "                 ...            \n",
       "489                 311 34 AV SE\n",
       "490                4705 76 AV SE\n",
       "491         1940 WESTMOUNT BV NW\n",
       "492               2607 106 AV SW\n",
       "493    10071 HIDDEN VALLEY DR NW\n",
       "Name: cleaned_address, Length: 494, dtype: object"
      ]
     },
     "execution_count": 180,
     "metadata": {},
     "output_type": "execute_result"
    }
   ],
   "source": [
    "data['cleaned_address']"
   ]
  },
  {
   "cell_type": "code",
   "execution_count": 184,
   "metadata": {},
   "outputs": [
    {
     "data": {
      "text/plain": [
       "array(['Heated Swimming Pool', 'Office',\n",
       "       'Repair Services (Vehicle, Shoe, Locksmith, etc.)',\n",
       "       'Fitness Center/Health Club/Gym', 'Indoor Arena',\n",
       "       'Non-Refrigerated Warehouse', 'Other - Public Services',\n",
       "       'Fire Station', 'Ice/Curling Rink', 'Other - Recreation', 'Museum',\n",
       "       'Mixed Use Property', 'Other', 'Social/Meeting Hall',\n",
       "       'Self-Storage Facility', 'Distribution Center', 'Performing Arts'],\n",
       "      dtype=object)"
      ]
     },
     "execution_count": 184,
     "metadata": {},
     "output_type": "execute_result"
    }
   ],
   "source": [
    "data['Primary Property Type - Self Selected'].unique()"
   ]
  },
  {
   "cell_type": "markdown",
   "metadata": {},
   "source": [
    "## Exploratory Data Analysis and Aggregations\n",
    "\n",
    "### Statistical Summary "
   ]
  },
  {
   "cell_type": "code",
   "execution_count": 264,
   "metadata": {},
   "outputs": [
    {
     "data": {
      "text/html": [
       "<div>\n",
       "<style scoped>\n",
       "    .dataframe tbody tr th:only-of-type {\n",
       "        vertical-align: middle;\n",
       "    }\n",
       "\n",
       "    .dataframe tbody tr th {\n",
       "        vertical-align: top;\n",
       "    }\n",
       "\n",
       "    .dataframe thead th {\n",
       "        text-align: right;\n",
       "    }\n",
       "</style>\n",
       "<table border=\"1\" class=\"dataframe\">\n",
       "  <thead>\n",
       "    <tr style=\"text-align: right;\">\n",
       "      <th></th>\n",
       "      <th>Property GFA - Self-Reported (m²)</th>\n",
       "      <th>Site Energy Use (GJ)</th>\n",
       "      <th>Weather Normalized Site Energy Use (GJ)</th>\n",
       "      <th>Site EUI (GJ/m²)</th>\n",
       "      <th>Weather Normalized Site EUI (GJ/m²)</th>\n",
       "      <th>Source Energy Use (GJ)</th>\n",
       "      <th>Weather Normalized Source Energy Use (GJ)</th>\n",
       "      <th>Source EUI (GJ/m²)</th>\n",
       "      <th>Weather Normalized Source EUI (GJ/m²)</th>\n",
       "      <th>Total GHG Emissions (Metric Tons CO2e)</th>\n",
       "      <th>Total GHG Emissions Intensity (kgCO2e/m²)</th>\n",
       "      <th>Direct GHG Emissions (Metric Tons CO2e)</th>\n",
       "      <th>Direct GHG Emissions Intensity (kgCO2e/m²)</th>\n",
       "      <th>Electricity Use - Grid Purchase (kWh)</th>\n",
       "      <th>Natural Gas Use (GJ)</th>\n",
       "    </tr>\n",
       "  </thead>\n",
       "  <tbody>\n",
       "    <tr>\n",
       "      <th>count</th>\n",
       "      <td>494.000000</td>\n",
       "      <td>494.000000</td>\n",
       "      <td>494.000000</td>\n",
       "      <td>494.000000</td>\n",
       "      <td>494.000000</td>\n",
       "      <td>494.000000</td>\n",
       "      <td>494.000000</td>\n",
       "      <td>494.000000</td>\n",
       "      <td>494.000000</td>\n",
       "      <td>494.000000</td>\n",
       "      <td>494.000000</td>\n",
       "      <td>494.000000</td>\n",
       "      <td>494.000000</td>\n",
       "      <td>4.940000e+02</td>\n",
       "      <td>494.000000</td>\n",
       "    </tr>\n",
       "    <tr>\n",
       "      <th>mean</th>\n",
       "      <td>4752.556883</td>\n",
       "      <td>8265.670040</td>\n",
       "      <td>8397.193117</td>\n",
       "      <td>1.774798</td>\n",
       "      <td>1.810324</td>\n",
       "      <td>10590.527733</td>\n",
       "      <td>10221.438866</td>\n",
       "      <td>2.282753</td>\n",
       "      <td>2.319717</td>\n",
       "      <td>340.382389</td>\n",
       "      <td>158.671660</td>\n",
       "      <td>281.868826</td>\n",
       "      <td>63.821862</td>\n",
       "      <td>6.011028e+05</td>\n",
       "      <td>5520.693522</td>\n",
       "    </tr>\n",
       "    <tr>\n",
       "      <th>std</th>\n",
       "      <td>10128.320688</td>\n",
       "      <td>19733.748811</td>\n",
       "      <td>19877.336939</td>\n",
       "      <td>1.306700</td>\n",
       "      <td>1.331529</td>\n",
       "      <td>23438.866328</td>\n",
       "      <td>22866.650000</td>\n",
       "      <td>1.597846</td>\n",
       "      <td>1.622897</td>\n",
       "      <td>333.924525</td>\n",
       "      <td>109.472637</td>\n",
       "      <td>884.613506</td>\n",
       "      <td>56.835735</td>\n",
       "      <td>1.184414e+06</td>\n",
       "      <td>17218.457051</td>\n",
       "    </tr>\n",
       "    <tr>\n",
       "      <th>min</th>\n",
       "      <td>113.000000</td>\n",
       "      <td>141.000000</td>\n",
       "      <td>146.000000</td>\n",
       "      <td>0.060000</td>\n",
       "      <td>0.060000</td>\n",
       "      <td>237.000000</td>\n",
       "      <td>146.000000</td>\n",
       "      <td>0.110000</td>\n",
       "      <td>0.110000</td>\n",
       "      <td>15.000000</td>\n",
       "      <td>10.200000</td>\n",
       "      <td>0.000000</td>\n",
       "      <td>0.000000</td>\n",
       "      <td>1.076580e+04</td>\n",
       "      <td>3.000000</td>\n",
       "    </tr>\n",
       "    <tr>\n",
       "      <th>25%</th>\n",
       "      <td>1096.650000</td>\n",
       "      <td>1232.825000</td>\n",
       "      <td>1256.150000</td>\n",
       "      <td>0.990000</td>\n",
       "      <td>1.000000</td>\n",
       "      <td>1601.525000</td>\n",
       "      <td>1562.825000</td>\n",
       "      <td>1.312500</td>\n",
       "      <td>1.350000</td>\n",
       "      <td>113.850000</td>\n",
       "      <td>93.100000</td>\n",
       "      <td>43.000000</td>\n",
       "      <td>33.325000</td>\n",
       "      <td>1.074446e+05</td>\n",
       "      <td>861.050000</td>\n",
       "    </tr>\n",
       "    <tr>\n",
       "      <th>50%</th>\n",
       "      <td>1806.750000</td>\n",
       "      <td>2555.650000</td>\n",
       "      <td>2572.500000</td>\n",
       "      <td>1.290000</td>\n",
       "      <td>1.310000</td>\n",
       "      <td>3238.600000</td>\n",
       "      <td>3144.800000</td>\n",
       "      <td>1.680000</td>\n",
       "      <td>1.690000</td>\n",
       "      <td>228.100000</td>\n",
       "      <td>117.600000</td>\n",
       "      <td>78.700000</td>\n",
       "      <td>43.900000</td>\n",
       "      <td>2.237719e+05</td>\n",
       "      <td>1569.750000</td>\n",
       "    </tr>\n",
       "    <tr>\n",
       "      <th>75%</th>\n",
       "      <td>4257.900000</td>\n",
       "      <td>7999.050000</td>\n",
       "      <td>8006.575000</td>\n",
       "      <td>2.065000</td>\n",
       "      <td>2.110000</td>\n",
       "      <td>10242.400000</td>\n",
       "      <td>9637.275000</td>\n",
       "      <td>2.622500</td>\n",
       "      <td>2.652500</td>\n",
       "      <td>447.900000</td>\n",
       "      <td>186.975000</td>\n",
       "      <td>247.425000</td>\n",
       "      <td>74.050000</td>\n",
       "      <td>5.492725e+05</td>\n",
       "      <td>4816.200000</td>\n",
       "    </tr>\n",
       "    <tr>\n",
       "      <th>max</th>\n",
       "      <td>85941.000000</td>\n",
       "      <td>243202.000000</td>\n",
       "      <td>242611.000000</td>\n",
       "      <td>8.430000</td>\n",
       "      <td>8.360000</td>\n",
       "      <td>261481.000000</td>\n",
       "      <td>260399.000000</td>\n",
       "      <td>10.130000</td>\n",
       "      <td>10.060000</td>\n",
       "      <td>1531.400000</td>\n",
       "      <td>666.200000</td>\n",
       "      <td>12243.000000</td>\n",
       "      <td>386.000000</td>\n",
       "      <td>9.786193e+06</td>\n",
       "      <td>238415.000000</td>\n",
       "    </tr>\n",
       "  </tbody>\n",
       "</table>\n",
       "</div>"
      ],
      "text/plain": [
       "       Property GFA - Self-Reported (m²)  Site Energy Use (GJ)  \\\n",
       "count                         494.000000            494.000000   \n",
       "mean                         4752.556883           8265.670040   \n",
       "std                         10128.320688          19733.748811   \n",
       "min                           113.000000            141.000000   \n",
       "25%                          1096.650000           1232.825000   \n",
       "50%                          1806.750000           2555.650000   \n",
       "75%                          4257.900000           7999.050000   \n",
       "max                         85941.000000         243202.000000   \n",
       "\n",
       "       Weather Normalized Site Energy Use (GJ)  Site EUI (GJ/m²)  \\\n",
       "count                               494.000000        494.000000   \n",
       "mean                               8397.193117          1.774798   \n",
       "std                               19877.336939          1.306700   \n",
       "min                                 146.000000          0.060000   \n",
       "25%                                1256.150000          0.990000   \n",
       "50%                                2572.500000          1.290000   \n",
       "75%                                8006.575000          2.065000   \n",
       "max                              242611.000000          8.430000   \n",
       "\n",
       "       Weather Normalized Site EUI (GJ/m²)  Source Energy Use (GJ)  \\\n",
       "count                           494.000000              494.000000   \n",
       "mean                              1.810324            10590.527733   \n",
       "std                               1.331529            23438.866328   \n",
       "min                               0.060000              237.000000   \n",
       "25%                               1.000000             1601.525000   \n",
       "50%                               1.310000             3238.600000   \n",
       "75%                               2.110000            10242.400000   \n",
       "max                               8.360000           261481.000000   \n",
       "\n",
       "       Weather Normalized Source Energy Use (GJ)  Source EUI (GJ/m²)  \\\n",
       "count                                 494.000000          494.000000   \n",
       "mean                                10221.438866            2.282753   \n",
       "std                                 22866.650000            1.597846   \n",
       "min                                   146.000000            0.110000   \n",
       "25%                                  1562.825000            1.312500   \n",
       "50%                                  3144.800000            1.680000   \n",
       "75%                                  9637.275000            2.622500   \n",
       "max                                260399.000000           10.130000   \n",
       "\n",
       "       Weather Normalized Source EUI (GJ/m²)  \\\n",
       "count                             494.000000   \n",
       "mean                                2.319717   \n",
       "std                                 1.622897   \n",
       "min                                 0.110000   \n",
       "25%                                 1.350000   \n",
       "50%                                 1.690000   \n",
       "75%                                 2.652500   \n",
       "max                                10.060000   \n",
       "\n",
       "       Total GHG Emissions (Metric Tons CO2e)  \\\n",
       "count                              494.000000   \n",
       "mean                               340.382389   \n",
       "std                                333.924525   \n",
       "min                                 15.000000   \n",
       "25%                                113.850000   \n",
       "50%                                228.100000   \n",
       "75%                                447.900000   \n",
       "max                               1531.400000   \n",
       "\n",
       "       Total GHG Emissions Intensity (kgCO2e/m²)  \\\n",
       "count                                 494.000000   \n",
       "mean                                  158.671660   \n",
       "std                                   109.472637   \n",
       "min                                    10.200000   \n",
       "25%                                    93.100000   \n",
       "50%                                   117.600000   \n",
       "75%                                   186.975000   \n",
       "max                                   666.200000   \n",
       "\n",
       "       Direct GHG Emissions (Metric Tons CO2e)  \\\n",
       "count                               494.000000   \n",
       "mean                                281.868826   \n",
       "std                                 884.613506   \n",
       "min                                   0.000000   \n",
       "25%                                  43.000000   \n",
       "50%                                  78.700000   \n",
       "75%                                 247.425000   \n",
       "max                               12243.000000   \n",
       "\n",
       "       Direct GHG Emissions Intensity (kgCO2e/m²)  \\\n",
       "count                                  494.000000   \n",
       "mean                                    63.821862   \n",
       "std                                     56.835735   \n",
       "min                                      0.000000   \n",
       "25%                                     33.325000   \n",
       "50%                                     43.900000   \n",
       "75%                                     74.050000   \n",
       "max                                    386.000000   \n",
       "\n",
       "       Electricity Use - Grid Purchase (kWh)  Natural Gas Use (GJ)  \n",
       "count                           4.940000e+02            494.000000  \n",
       "mean                            6.011028e+05           5520.693522  \n",
       "std                             1.184414e+06          17218.457051  \n",
       "min                             1.076580e+04              3.000000  \n",
       "25%                             1.074446e+05            861.050000  \n",
       "50%                             2.237719e+05           1569.750000  \n",
       "75%                             5.492725e+05           4816.200000  \n",
       "max                             9.786193e+06         238415.000000  "
      ]
     },
     "execution_count": 264,
     "metadata": {},
     "output_type": "execute_result"
    }
   ],
   "source": [
    "# select numerical columns and use describe for summary stats\n",
    "data.select_dtypes(include=['float64']).describe()\n"
   ]
  },
  {
   "cell_type": "markdown",
   "metadata": {},
   "source": [
    "### Aggregations"
   ]
  },
  {
   "cell_type": "code",
   "execution_count": 190,
   "metadata": {},
   "outputs": [
    {
     "data": {
      "text/plain": [
       "Primary Property Type - Self Selected\n",
       "Heated Swimming Pool                                4.805333\n",
       "Fitness Center/Health Club/Gym                      4.385000\n",
       "Distribution Center                                 3.286000\n",
       "Ice/Curling Rink                                    2.182200\n",
       "Other - Recreation                                  2.165000\n",
       "Museum                                              1.584000\n",
       "Social/Meeting Hall                                 1.550000\n",
       "Other - Public Services                             1.526000\n",
       "Office                                              1.519636\n",
       "Performing Arts                                     1.302000\n",
       "Repair Services (Vehicle, Shoe, Locksmith, etc.)    1.248000\n",
       "Fire Station                                        1.208827\n",
       "Self-Storage Facility                               1.208000\n",
       "Indoor Arena                                        1.106000\n",
       "Non-Refrigerated Warehouse                          0.768000\n",
       "Mixed Use Property                                  0.458000\n",
       "Other                                               0.070000\n",
       "Name: Site EUI (GJ/m²), dtype: float64"
      ]
     },
     "execution_count": 190,
     "metadata": {},
     "output_type": "execute_result"
    }
   ],
   "source": [
    "# Average EUI by property type\n",
    "data.groupby(['Primary Property Type - Self Selected'])['Site EUI (GJ/m²)'].agg('mean').sort_values(ascending=False)"
   ]
  },
  {
   "cell_type": "code",
   "execution_count": 191,
   "metadata": {},
   "outputs": [
    {
     "data": {
      "text/plain": [
       "Year Ending\n",
       "2019    75605.4\n",
       "2020    66617.2\n",
       "2021    68136.9\n",
       "2022    72301.0\n",
       "2023    75132.0\n",
       "Name: Total GHG Emissions (Metric Tons CO2e), dtype: float64"
      ]
     },
     "execution_count": 191,
     "metadata": {},
     "output_type": "execute_result"
    }
   ],
   "source": [
    "# Total Emissions by year\n",
    "data.groupby(['Year Ending'])['Total GHG Emissions (Metric Tons CO2e)'].sum()"
   ]
  },
  {
   "cell_type": "code",
   "execution_count": 194,
   "metadata": {},
   "outputs": [
    {
     "data": {
      "text/plain": [
       "Property Id  Property Name                                     \n",
       "10417930     Stoney Transit Facility                               726554.8\n",
       "8854298      Municipal Complex                                     406124.1\n",
       "21988620     Village Square Leisure Centre                         396268.1\n",
       "21988617     Southland Leisure Centre                              245215.1\n",
       "9492075      Foothills Aquatic Centre and Bauer and Bush Arenas    122386.6\n",
       "Name: Site Energy Use (GJ), dtype: float64"
      ]
     },
     "execution_count": 194,
     "metadata": {},
     "output_type": "execute_result"
    }
   ],
   "source": [
    "# Top 5 properties by energy consumption\n",
    "data.groupby(['Property Id', 'Property Name'])['Site Energy Use (GJ)'].sum().sort_values(ascending=False).head(5)"
   ]
  },
  {
   "cell_type": "markdown",
   "metadata": {},
   "source": [
    "### Detecting Outliers Using IQR"
   ]
  },
  {
   "cell_type": "code",
   "execution_count": 196,
   "metadata": {},
   "outputs": [
    {
     "data": {
      "text/plain": [
       "Total GHG Emissions (Metric Tons CO2e)\n",
       "False    448\n",
       "True      46\n",
       "Name: count, dtype: int64"
      ]
     },
     "execution_count": 196,
     "metadata": {},
     "output_type": "execute_result"
    }
   ],
   "source": [
    "# use IQR to find outliers in Total GHG emissions column\n",
    "Q1 = data['Total GHG Emissions (Metric Tons CO2e)'].quantile(0.25)\n",
    "Q3 = data['Total GHG Emissions (Metric Tons CO2e)'].quantile(0.75)\n",
    "IQR = Q3 - Q1\n",
    "lower_bound = Q1 - 1.5 * IQR\n",
    "upper_bound = Q3 + 1.5 * IQR\n",
    "outliers = (data['Total GHG Emissions (Metric Tons CO2e)'] < lower_bound) | (data['Total GHG Emissions (Metric Tons CO2e)'] > upper_bound)\n",
    "outliers.value_counts()"
   ]
  },
  {
   "cell_type": "markdown",
   "metadata": {},
   "source": [
    "We found 46 outliers in the column, now let's replace those outliers with the median"
   ]
  },
  {
   "cell_type": "code",
   "execution_count": 201,
   "metadata": {},
   "outputs": [],
   "source": [
    "# store the median, then use it to replace the outliers found above\n",
    "median = data['Total GHG Emissions (Metric Tons CO2e)'].median()\n",
    "data.loc[outliers, 'Total GHG Emissions (Metric Tons CO2e)'] = median"
   ]
  },
  {
   "cell_type": "markdown",
   "metadata": {},
   "source": [
    "## Data Visualization\n",
    "\n",
    "### Time-Series Visualization"
   ]
  },
  {
   "cell_type": "code",
   "execution_count": 220,
   "metadata": {},
   "outputs": [
    {
     "data": {
      "image/png": "[encoded data removed]",
      "text/plain": [
       "<Figure size 640x480 with 1 Axes>"
      ]
     },
     "metadata": {},
     "output_type": "display_data"
    }
   ],
   "source": [
    "yearly_eui = data.groupby(['Year Ending'])['Site EUI (GJ/m²)'].sum().reset_index()\n",
    "xticks = np.arange(2019, 2024, 1)\n",
    "fig, ax = plt.subplots()\n",
    "ax.plot(yearly_eui['Year Ending'], yearly_eui['Site EUI (GJ/m²)'])\n",
    "ax.set_xticks(xticks)\n",
    "ax.axvspan(2019, 2020.5, alpha=0.2, color=\"red\")\n",
    "ax.annotate(\"Onset of pandemic\", \n",
    "            xy=(2020, 175), \n",
    "            xytext=(2021, 180),  # Text position (adjust offset as needed)\n",
    "            arrowprops=dict(arrowstyle=\"->\", connectionstyle=\"arc3\"),  # Arrow style\n",
    "            fontsize=12,  \n",
    "            ha=\"center\",  \n",
    "            va=\"bottom\")\n",
    "\n",
    "plt.title(\"Yearly Site Energy Use Intensity for City Buildings\")\n",
    "plt.xlabel('Year')\n",
    "plt.ylabel('Total Site EUI (GJ/m²)')\n",
    "plt.tight_layout()\n",
    "plt.show()"
   ]
  },
  {
   "cell_type": "markdown",
   "metadata": {},
   "source": [
    "### Comparative Bar Chart"
   ]
  },
  {
   "cell_type": "code",
   "execution_count": 237,
   "metadata": {},
   "outputs": [
    {
     "data": {
      "image/png": "[encoded data removed]",
      "text/plain": [
       "<Figure size 640x480 with 1 Axes>"
      ]
     },
     "metadata": {},
     "output_type": "display_data"
    }
   ],
   "source": [
    "top_buildings = data.groupby(['Property Id', 'Property Name'])['Total GHG Emissions (Metric Tons CO2e)'].sum().sort_values(ascending=False).head(10).reset_index()\n",
    "\n",
    "fig, ax = plt.subplots()\n",
    "bars = ax.bar(top_buildings['Property Name'], top_buildings['Total GHG Emissions (Metric Tons CO2e)'])\n",
    "ax.tick_params(axis='x', labelsize=6, labelrotation = 85)\n",
    "for bar in bars:\n",
    "    ax.text(bar.get_x() + bar.get_width() / 2, bar.get_height(), f\"{bar.get_height():.0f}\", ha=\"center\", va='bottom', fontsize=7)\n",
    "\n",
    "plt.title(\"Top Greenhouse Gas Emitting Buildings\")\n",
    "plt.xlabel('Building')\n",
    "plt.ylabel('Total GHG Emissions (Metric Tons CO2e)')\n",
    "plt.tight_layout()\n",
    "plt.show()\n"
   ]
  },
  {
   "cell_type": "markdown",
   "metadata": {},
   "source": [
    "### Heatmap Visualization"
   ]
  },
  {
   "cell_type": "code",
   "execution_count": 257,
   "metadata": {},
   "outputs": [
    {
     "data": {
      "text/plain": [
       "<Axes: ylabel='Primary Property Type - Self Selected'>"
      ]
     },
     "execution_count": 257,
     "metadata": {},
     "output_type": "execute_result"
    },
    {
     "data": {
      "image/png": "[encoded data removed]",
      "text/plain": [
       "<Figure size 640x480 with 2 Axes>"
      ]
     },
     "metadata": {},
     "output_type": "display_data"
    }
   ],
   "source": [
    "import seaborn as sns\n",
    "\n",
    "energy_by_type = data.groupby(['Primary Property Type - Self Selected'])['Site EUI (GJ/m²)'].sum().reset_index()\n",
    "heatmap_data = energy_by_type.pivot_table(index='Primary Property Type - Self Selected', values='Site EUI (GJ/m²)')\n",
    "\n",
    "sns.heatmap(heatmap_data)"
   ]
  },
  {
   "cell_type": "markdown",
   "metadata": {},
   "source": [
    "## Further Analysis\n",
    "\n",
    "### Correlation Analysis"
   ]
  },
  {
   "cell_type": "code",
   "execution_count": 267,
   "metadata": {},
   "outputs": [
    {
     "name": "stdout",
     "output_type": "stream",
     "text": [
      "Correlation between Energy Use and Emissions: 0.1087803565413341\n",
      "Correlation between Energy Use and Building Size: 0.7259774535411239\n",
      "Correlation between Emissions and Building Size: 0.17082171479541977\n"
     ]
    }
   ],
   "source": [
    "# build a matrix of correlation between our columns of interest\n",
    "correlation_matrix = data[['Site Energy Use (GJ)', 'Total GHG Emissions (Metric Tons CO2e)', 'Property GFA - Self-Reported (m²)']].corr()\n",
    "\n",
    "# access the correlation numbers within the matrix, list them out pairwise\n",
    "correlation_AB = correlation_matrix.loc['Site Energy Use (GJ)', 'Total GHG Emissions (Metric Tons CO2e)']  # Correlation between Energy Use and Emissions\n",
    "correlation_AC = correlation_matrix.loc['Site Energy Use (GJ)', 'Property GFA - Self-Reported (m²)']  # Correlation between Energy Use and Building Size\n",
    "correlation_BC = correlation_matrix.loc['Total GHG Emissions (Metric Tons CO2e)', 'Property GFA - Self-Reported (m²)'] # Correlation between Emissions and Building Size\n",
    "\n",
    "print(f\"Correlation between Energy Use and Emissions: {correlation_AB}\")\n",
    "print(f\"Correlation between Energy Use and Building Size: {correlation_AC}\")\n",
    "print(f\"Correlation between Emissions and Building Size: {correlation_BC}\")"
   ]
  },
  {
   "cell_type": "markdown",
   "metadata": {},
   "source": [
    "The correlations above show a strong correlation between Size of building and energy use. However, they do not show a strong correlation between the emissions of a building and building size, nor emissions and energy use. We expect that the size of the building may lead to increased energy consumption, as there is more area to heat, light, and larger systems with increased size. It may be expected that these increased consumption numbers would also lead to higher emissions, however this is not the case. This lack of correlation is likely due to green alternatives mitigating the amount of emissions despite higher consumption.  "
   ]
  },
  {
   "cell_type": "markdown",
   "metadata": {},
   "source": [
    "### Hypothesis Testing"
   ]
  },
  {
   "cell_type": "markdown",
   "metadata": {},
   "source": [
    "The Energy Star Score column was dropped for lack of data, for this analysis we will re-import the data"
   ]
  },
  {
   "cell_type": "code",
   "execution_count": 283,
   "metadata": {},
   "outputs": [
    {
     "data": {
      "text/plain": [
       "Index(['Property Id', 'Property Name', 'Address 1', 'City', 'Postal Code',\n",
       "       'Province', 'Primary Property Type - Self Selected',\n",
       "       'Number of Buildings', 'Year Built',\n",
       "       'Property GFA - Self-Reported (m²)', 'ENERGY STAR Score',\n",
       "       'Site Energy Use (GJ)', 'Weather Normalized Site Energy Use (GJ)',\n",
       "       'Site EUI (GJ/m²)', 'Weather Normalized Site EUI (GJ/m²)',\n",
       "       'Source Energy Use (GJ)', 'Weather Normalized Source Energy Use (GJ)',\n",
       "       'Source EUI (GJ/m²)', 'Weather Normalized Source EUI (GJ/m²)',\n",
       "       'Total GHG Emissions (Metric Tons CO2e)',\n",
       "       'Total GHG Emissions Intensity (kgCO2e/m²)',\n",
       "       'Direct GHG Emissions (Metric Tons CO2e)',\n",
       "       'Direct GHG Emissions Intensity (kgCO2e/m²)',\n",
       "       'Electricity Use - Grid Purchase (kWh)', 'Natural Gas Use (GJ)',\n",
       "       'District Hot Water Use (GJ)',\n",
       "       'Electricity Use – Generated from Onsite Renewable Systems (kWh)',\n",
       "       'Green Power - Onsite and Offsite (kWh)',\n",
       "       'Avoided Emissions - Onsite and Offsite Green Power (Metric Tons CO2e)',\n",
       "       'Year Ending', 'Unique ID'],\n",
       "      dtype='object')"
      ]
     },
     "execution_count": 283,
     "metadata": {},
     "output_type": "execute_result"
    }
   ],
   "source": [
    "data_redo = pd.read_csv('data/Building_Energy_Benchmarking.csv')\n",
    "data_redo.columns"
   ]
  },
  {
   "cell_type": "code",
   "execution_count": null,
   "metadata": {},
   "outputs": [],
   "source": [
    "# drop the NA values in the column, otherwise answer will not be accurate\n",
    "data_redo = data_redo.dropna(subset=['ENERGY STAR Score'])"
   ]
  },
  {
   "cell_type": "code",
   "execution_count": 287,
   "metadata": {},
   "outputs": [
    {
     "data": {
      "text/plain": [
       "Primary Property Type - Self Selected\n",
       "Distribution Center            2.800000\n",
       "Ice/Curling Rink              32.888889\n",
       "Museum                        31.000000\n",
       "Non-Refrigerated Warehouse    76.600000\n",
       "Office                        49.468085\n",
       "Self-Storage Facility         14.800000\n",
       "Name: ENERGY STAR Score, dtype: float64"
      ]
     },
     "execution_count": 287,
     "metadata": {},
     "output_type": "execute_result"
    }
   ],
   "source": [
    "# check out relationship between type and energy star score\n",
    "data_redo.groupby(['Primary Property Type - Self Selected'])['ENERGY STAR Score'].mean()"
   ]
  },
  {
   "cell_type": "code",
   "execution_count": 288,
   "metadata": {},
   "outputs": [
    {
     "name": "stdout",
     "output_type": "stream",
     "text": [
      "There is NOT a statistically significant difference between the two property types. p=0.5434\n"
     ]
    }
   ],
   "source": [
    "from scipy.stats import ttest_ind\n",
    "\n",
    "#Separate two property types\n",
    "museum = data_redo[data_redo['Primary Property Type - Self Selected'] == 'Museum']['ENERGY STAR Score']\n",
    "office = data_redo[data_redo['Primary Property Type - Self Selected'] == 'Office']['ENERGY STAR Score']\n",
    "\n",
    "#Perform independent t-test\n",
    "t_stastic, p_value = ttest_ind(museum, office)\n",
    "\n",
    "#Return result\n",
    "if p_value < 0.05:\n",
    "    print(f\"There is a statistically significant difference between the two property types. p={p_value:.4f}\")\n",
    "else:\n",
    "    print(f\"There is NOT a statistically significant difference between the two property types. p={p_value:.4f}\")"
   ]
  },
  {
   "cell_type": "markdown",
   "metadata": {},
   "source": [
    "There is no statistically significant difference in energy star score between the museum and office property types, we can repeat comparing the office against another property type"
   ]
  },
  {
   "cell_type": "code",
   "execution_count": 290,
   "metadata": {},
   "outputs": [
    {
     "name": "stdout",
     "output_type": "stream",
     "text": [
      "There is a statistically significant difference between the two property types. p=0.0008\n"
     ]
    }
   ],
   "source": [
    "# Repeat with distribution center\n",
    "dist = data_redo[data_redo['Primary Property Type - Self Selected'] == 'Distribution Center']['ENERGY STAR Score']\n",
    "\n",
    "# Perform independent t-test\n",
    "t_stastic, p_value = ttest_ind(dist, office)\n",
    "\n",
    "#Return result\n",
    "if p_value < 0.05:\n",
    "    print(f\"There is a statistically significant difference between the two property types. p={p_value:.4f}\")\n",
    "else:\n",
    "    print(f\"There is NOT a statistically significant difference between the two property types. p={p_value:.4f}\")"
   ]
  },
  {
   "cell_type": "markdown",
   "metadata": {},
   "source": [
    "The Distribution center and office types are significantly different. Likely due to the varied nature in the usage of these property types."
   ]
  },
  {
   "cell_type": "markdown",
   "metadata": {},
   "source": [
    "### Additional Tasks"
   ]
  },
  {
   "cell_type": "code",
   "execution_count": 274,
   "metadata": {},
   "outputs": [
    {
     "data": {
      "image/png": "[encoded data removed]",
      "text/plain": [
       "<Figure size 640x480 with 4 Axes>"
      ]
     },
     "metadata": {},
     "output_type": "display_data"
    }
   ],
   "source": [
    "build_year_energy = data.groupby(['Year Built'])[['Total GHG Emissions (Metric Tons CO2e)', 'Site Energy Use (GJ)', 'Electricity Use - Grid Purchase (kWh)', 'Natural Gas Use (GJ)']].mean().reset_index()\n",
    "\n",
    "fig, ax = plt.subplots(2, 2)\n",
    "ax[0][0].plot(build_year_energy['Year Built'], build_year_energy['Total GHG Emissions (Metric Tons CO2e)'], 'o')\n",
    "z = np.polyfit(build_year_energy['Year Built'], build_year_energy['Total GHG Emissions (Metric Tons CO2e)'], 1)  # Returns the coefficients [slope, intercept]\n",
    "p = np.poly1d(z)         # Creates a polynomial function from the coefficients\n",
    "ax[0][0].plot(build_year_energy['Year Built'], p(build_year_energy['Year Built']), \"r-\", label=f\"Linear Trendline: y = {z[0]:.2f}x + {z[1]:.2f}\")\n",
    "ax[0][0].set_title(\"Emissions\")\n",
    "\n",
    "ax[0][1].plot(build_year_energy['Year Built'], build_year_energy['Site Energy Use (GJ)'], 'o')\n",
    "z = np.polyfit(build_year_energy['Year Built'], build_year_energy['Site Energy Use (GJ)'], 1)  # Returns the coefficients [slope, intercept]\n",
    "p = np.poly1d(z)         # Creates a polynomial function from the coefficients\n",
    "ax[0][1].plot(build_year_energy['Year Built'], p(build_year_energy['Year Built']), \"r-\", label=f\"Linear Trendline: y = {z[0]:.2f}x + {z[1]:.2f}\")\n",
    "ax[0][1].set_title(\"Energy Use\")\n",
    "\n",
    "ax[1][0].plot(build_year_energy['Year Built'], build_year_energy['Electricity Use - Grid Purchase (kWh)'], 'o')\n",
    "z = np.polyfit(build_year_energy['Year Built'], build_year_energy['Electricity Use - Grid Purchase (kWh)'], 1)  # Returns the coefficients [slope, intercept]\n",
    "p = np.poly1d(z)         # Creates a polynomial function from the coefficients\n",
    "ax[1][0].plot(build_year_energy['Year Built'], p(build_year_energy['Year Built']), \"r-\", label=f\"Linear Trendline: y = {z[0]:.2f}x + {z[1]:.2f}\")\n",
    "ax[1][0].set_title(\"Electricity Use\")\n",
    "\n",
    "ax[1][1].plot(build_year_energy['Year Built'], build_year_energy['Natural Gas Use (GJ)'], 'o')\n",
    "z = np.polyfit(build_year_energy['Year Built'], build_year_energy['Natural Gas Use (GJ)'], 1)  # Returns the coefficients [slope, intercept]\n",
    "p = np.poly1d(z)         # Creates a polynomial function from the coefficients\n",
    "ax[1][1].plot(build_year_energy['Year Built'], p(build_year_energy['Year Built']), \"r-\", label=f\"Linear Trendline: y = {z[0]:.2f}x + {z[1]:.2f}\")\n",
    "ax[1][1].set_title('Natural Gas Use')\n",
    "for ax in ax[1,:]:\n",
    "    for label in ax.get_xticklabels():\n",
    "        label.set_rotation(45)\n",
    "        label.set_ha('right')\n",
    "fig.suptitle('Trends by Build Year', fontsize=16)\n",
    "plt.subplots_adjust(wspace=0.3, hspace=0.3)\n",
    "plt.show()\n"
   ]
  },
  {
   "cell_type": "markdown",
   "metadata": {},
   "source": [
    "We see mostly flat trendlines between building age and efficiency. There is a slight downward trend in the amount of Energy Use and Natural Gas Use, with a flat trend in Electricity Use. We see Emissions increase generally the newer a building is. There are several confounding factors here, though. We have much more data for more recently built buildings, this gives survivorship bias for the older buildings, as it may be their general efficiency that keeps them from getting torn down. These could also be heritage buildings that are protected, and have been retrofitted to new standards. Additionally, as time has gone on, we have built larger, more complex buildings. A large arena or conference center that uses large amounts of energy, is more likely to be a modern building, biasing high consumption toward newer buildings. These results could possibly be improved by normalizing results to building size."
   ]
  },
  {
   "cell_type": "code",
   "execution_count": null,
   "metadata": {},
   "outputs": [],
   "source": []
  }
 ],
 "metadata": {
  "kernelspec": {
   "display_name": "Python 3",
   "language": "python",
   "name": "python3"
  },
  "language_info": {
   "codemirror_mode": {
    "name": "ipython",
    "version": 3
   },
   "file_extension": ".py",
   "mimetype": "text/x-python",
   "name": "python",
   "nbconvert_exporter": "python",
   "pygments_lexer": "ipython3",
   "version": "3.12.8"
  }
 },
 "nbformat": 4,
 "nbformat_minor": 2
}
